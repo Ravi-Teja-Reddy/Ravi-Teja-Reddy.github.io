{
  "cells": [
    {
      "cell_type": "markdown",
      "metadata": {
        "id": "view-in-github",
        "colab_type": "text"
      },
      "source": [
        "<a href=\"https://colab.research.google.com/github/Ravi-Teja-Reddy/Ravi-Teja-Reddy.github.io/blob/master/rollnumber_Assignment3_Q1.ipynb\" target=\"_parent\"><img src=\"https://colab.research.google.com/assets/colab-badge.svg\" alt=\"Open In Colab\"/></a>"
      ]
    },
    {
      "cell_type": "markdown",
      "id": "5b7c2e76",
      "metadata": {
        "id": "5b7c2e76"
      },
      "source": [
        "# Assignment 3\n",
        "\n",
        "## Instructions\n",
        "- Run this notebook on ```Google Colab(preferable)```\n",
        "- Write your code and analysis in the indicated cells.\n",
        "- Ensure that this notebook runs without errors when the cells are run in sequence.\n",
        "- Do not attempt to change the contents of other cells. \n",
        "\n",
        "## Packages Used\n",
        "- Keras [link](https://keras.io/guides/)\n",
        "\n",
        "## Submission\n",
        "- Rename the notebook to `<roll_number>_Assignment3_Q1.ipynb`."
      ]
    },
    {
      "cell_type": "markdown",
      "id": "81a04618",
      "metadata": {
        "id": "81a04618"
      },
      "source": [
        "## Question 1"
      ]
    },
    {
      "cell_type": "markdown",
      "id": "b7be834e",
      "metadata": {
        "id": "b7be834e"
      },
      "source": [
        "This question is based on seminal work by Zhang et al. The paper is titled 'Understanding deep learning requires rethinking generalization'. The paper talks about how the traditional methods fail to explain generalization of neural network. They show that a sufficiently parameterized network can easily fit a random labeling of the training data. This fitting cannot be curbed by explicit regularization.\n"
      ]
    },
    {
      "cell_type": "markdown",
      "id": "c1082657",
      "metadata": {
        "id": "c1082657"
      },
      "source": [
        "## Q) 1.1 \n",
        "Lets take a hello world dataset for ML algorithm the MNIST!\n",
        "This question requires you to train a convolutional neural network.\n",
        "Architecture: 4 layers of convolution with 64 filters in each layer. Keep activation map size same using padding."
      ]
    },
    {
      "cell_type": "code",
      "execution_count": null,
      "id": "d93211d0",
      "metadata": {
        "id": "d93211d0"
      },
      "outputs": [],
      "source": [
        "from tensorflow import keras   # feel free to use MNIST data from other sources \n",
        "import numpy as np\n",
        "from keras.utils import np_utils\n",
        "from keras.datasets import mnist\n",
        "from keras.layers import Dense, Input\n",
        "from keras.layers import Conv2D, MaxPooling2D, Dropout, Flatten\n",
        "import matplotlib.pyplot as plt\n",
        "from keras.models import Model\n",
        "import random\n"
      ]
    },
    {
      "cell_type": "code",
      "execution_count": null,
      "id": "c4301e9e",
      "metadata": {
        "colab": {
          "base_uri": "https://localhost:8080/"
        },
        "id": "c4301e9e",
        "outputId": "97029c11-b845-44ae-bb7e-1262cd26c756"
      },
      "outputs": [
        {
          "output_type": "stream",
          "name": "stdout",
          "text": [
            "Downloading data from https://storage.googleapis.com/tensorflow/tf-keras-datasets/mnist.npz\n",
            "11493376/11490434 [==============================] - 0s 0us/step\n",
            "11501568/11490434 [==============================] - 0s 0us/step\n"
          ]
        }
      ],
      "source": [
        "(x_train, y_train), (x_test, y_test) = keras.datasets.mnist.load_data()"
      ]
    },
    {
      "cell_type": "code",
      "execution_count": null,
      "id": "8f8db95a",
      "metadata": {
        "colab": {
          "base_uri": "https://localhost:8080/"
        },
        "id": "8f8db95a",
        "outputId": "31b263b1-1988-4da8-8a2b-6a7bccade8f6"
      },
      "outputs": [
        {
          "output_type": "stream",
          "name": "stdout",
          "text": [
            "Train data shape: (60000, 28, 28, 1)\n",
            "60000 train samples\n",
            "10000 test samples\n"
          ]
        }
      ],
      "source": [
        "# normalize the pixel values to the range 0 and 1\n",
        "x_train = x_train.astype(\"float32\") / 255\n",
        "x_test = x_test.astype(\"float32\") / 255\n",
        "\n",
        "x_train = np.expand_dims(x_train, -1)\n",
        "x_test = np.expand_dims(x_test, -1)\n",
        "\n",
        "print(\"Train data shape:\", x_train.shape)\n",
        "print(x_train.shape[0], \"train samples\")\n",
        "print(x_test.shape[0], \"test samples\")"
      ]
    },
    {
      "cell_type": "markdown",
      "id": "c2f5bafd",
      "metadata": {
        "id": "c2f5bafd"
      },
      "source": [
        "#### One-hot-encode your labels here"
      ]
    },
    {
      "cell_type": "code",
      "execution_count": null,
      "id": "73520c0c",
      "metadata": {
        "colab": {
          "base_uri": "https://localhost:8080/"
        },
        "id": "73520c0c",
        "outputId": "e89552b5-a7a6-4b87-fabf-62006d904046"
      },
      "outputs": [
        {
          "output_type": "stream",
          "name": "stdout",
          "text": [
            "label shape:  (60000,) (10000,)\n",
            "label shape:  (60000, 10) (10000, 10)\n"
          ]
        }
      ],
      "source": [
        "print ('label shape: ',np.shape(y_train),np.shape(y_test))\n",
        "def encode(y):\n",
        "    y = np_utils.to_categorical(y)\n",
        "    return y\n",
        "\n",
        "y_train = encode(y_train)\n",
        "y_test = encode(y_test)\n",
        "print ('label shape: ',np.shape(y_train),np.shape(y_test))"
      ]
    },
    {
      "cell_type": "code",
      "source": [
        "x_train.shape"
      ],
      "metadata": {
        "colab": {
          "base_uri": "https://localhost:8080/"
        },
        "id": "k2diOOtk1lLN",
        "outputId": "eb7d0829-fe52-4085-8648-d4297d0b2a63"
      },
      "id": "k2diOOtk1lLN",
      "execution_count": null,
      "outputs": [
        {
          "output_type": "execute_result",
          "data": {
            "text/plain": [
              "(60000, 28, 28, 1)"
            ]
          },
          "metadata": {},
          "execution_count": 7
        }
      ]
    },
    {
      "cell_type": "code",
      "source": [
        "inpx = (28, 28, 1)"
      ],
      "metadata": {
        "id": "QnUIu-5qHKoW"
      },
      "id": "QnUIu-5qHKoW",
      "execution_count": null,
      "outputs": []
    },
    {
      "cell_type": "code",
      "source": [
        "# inpx = Input(shape=inpx)\n",
        "# layer1 = Conv2D(64, kernel_size=(3, 3), activation='relu')(inpx)\n",
        "# layer2 = Conv2D(64, (3, 3), activation='relu')(layer1)\n",
        "# layer3 = Conv2D(64, (3, 3), activation='relu')(layer2)\n",
        "# layer4 = Conv2D(64, (3, 3), activation='relu')(layer3)\n",
        "\n",
        "# #layer5 = MaxPooling2D(pool_size=(3, 3))(layer2)\n",
        "# layer6 = Dropout(0.5)(layer3)\n",
        "# layer7 = Flatten()(layer4)\n",
        "# layer8 = Dense(250, activation='sigmoid')(layer4)\n",
        "# layer9 = Dense(10, activation='softmax')(layer6)"
      ],
      "metadata": {
        "id": "qe621uVHHSmM"
      },
      "id": "qe621uVHHSmM",
      "execution_count": null,
      "outputs": []
    },
    {
      "cell_type": "code",
      "source": [
        "# model = Model([inpx], layer7)\n",
        "# model.compile(optimizer=keras.optimizers.Adadelta(),\n",
        "#               loss=keras.losses.categorical_crossentropy,\n",
        "#               metrics=['accuracy'])\n",
        " \n",
        "# model.fit(x_train, y_train, epochs=12, batch_size=500)"
      ],
      "metadata": {
        "id": "ce5irayzIlQ_"
      },
      "id": "ce5irayzIlQ_",
      "execution_count": null,
      "outputs": []
    },
    {
      "cell_type": "code",
      "source": [
        "# score = model.evaluate(x_test, y_test, verbose=0)\n",
        "# print('loss=', score[0])\n",
        "# print('accuracy=', score[1])"
      ],
      "metadata": {
        "id": "u_-bNTF-Iv4W"
      },
      "id": "u_-bNTF-Iv4W",
      "execution_count": null,
      "outputs": []
    },
    {
      "cell_type": "markdown",
      "id": "38b8a6fa",
      "metadata": {
        "id": "38b8a6fa"
      },
      "source": [
        "#### Define the model mentioned above\n",
        "    1) Print the number of trainable parameters\n",
        "     Use sgd optimizer with softmax at last layer \n",
        "     Train the model until convergence (use test data only for model selection and early stopping!)\n",
        "    2) Report the train and test accuracy\n",
        "    3) Plot the train and test accuracy and loss throughout the training"
      ]
    },
    {
      "cell_type": "code",
      "execution_count": null,
      "id": "novel-gambling",
      "metadata": {
        "id": "novel-gambling"
      },
      "outputs": [],
      "source": [
        "#code here\n",
        "\n",
        "def create_model():\n",
        "  input_ = keras.layers.Input(shape=inpx)\n",
        "  layer1 = Conv2D(64, kernel_size=(3, 3), activation='relu',padding='same')(input_)\n",
        "  layer2 = Conv2D(64, kernel_size=(3, 3), activation='relu',padding='same')(layer1)\n",
        "  layer3 = Conv2D(64, kernel_size=(3, 3), activation='relu',padding='same')(layer2)\n",
        "  layer4 = Conv2D(64, kernel_size=(3, 3), activation='relu',padding='same')(layer3)\n",
        "  flatten = keras.layers.Flatten()(layer4)#784\n",
        "  hidden_layer1 = keras.layers.Dense(900, activation=\"relu\")(flatten)\n",
        "  hidden_layer2 = keras.layers.Dense(400, activation='relu')(hidden_layer1)\n",
        "  output = keras.layers.Dense(10, activation='softmax')(hidden_layer2)\n",
        "  model = keras.Model(inputs=[input_], outputs=[output] )\n",
        "  return model"
      ]
    },
    {
      "cell_type": "code",
      "source": [
        "\n",
        "model = create_model()\n",
        "model.compile(optimizer=keras.optimizers.SGD(),\n",
        "              loss=keras.losses.categorical_crossentropy,\n",
        "              metrics=['accuracy'])\n",
        " "
      ],
      "metadata": {
        "id": "MJJqvnH4eyIk"
      },
      "id": "MJJqvnH4eyIk",
      "execution_count": null,
      "outputs": []
    },
    {
      "cell_type": "code",
      "source": [
        "model.summary() "
      ],
      "metadata": {
        "colab": {
          "base_uri": "https://localhost:8080/"
        },
        "id": "BU3jyqzae-Y0",
        "outputId": "0ce9ff9d-010e-4405-a70e-486c0e2558a7"
      },
      "id": "BU3jyqzae-Y0",
      "execution_count": null,
      "outputs": [
        {
          "output_type": "stream",
          "name": "stdout",
          "text": [
            "Model: \"model\"\n",
            "_________________________________________________________________\n",
            " Layer (type)                Output Shape              Param #   \n",
            "=================================================================\n",
            " input_1 (InputLayer)        [(None, 28, 28, 1)]       0         \n",
            "                                                                 \n",
            " conv2d (Conv2D)             (None, 28, 28, 64)        640       \n",
            "                                                                 \n",
            " conv2d_1 (Conv2D)           (None, 28, 28, 64)        36928     \n",
            "                                                                 \n",
            " conv2d_2 (Conv2D)           (None, 28, 28, 64)        36928     \n",
            "                                                                 \n",
            " conv2d_3 (Conv2D)           (None, 28, 28, 64)        36928     \n",
            "                                                                 \n",
            " flatten (Flatten)           (None, 50176)             0         \n",
            "                                                                 \n",
            " dense (Dense)               (None, 900)               45159300  \n",
            "                                                                 \n",
            " dense_1 (Dense)             (None, 400)               360400    \n",
            "                                                                 \n",
            " dense_2 (Dense)             (None, 10)                4010      \n",
            "                                                                 \n",
            "=================================================================\n",
            "Total params: 45,635,134\n",
            "Trainable params: 45,635,134\n",
            "Non-trainable params: 0\n",
            "_________________________________________________________________\n"
          ]
        }
      ]
    },
    {
      "cell_type": "code",
      "source": [
        "erly_stping = keras.callbacks.EarlyStopping(\n",
        "    monitor=\"val_accuracy\",\n",
        "    verbose=1,\n",
        "    patience=2,   \n",
        "    mode=\"auto\",\n",
        "    restore_best_weights=True,\n",
        ")"
      ],
      "metadata": {
        "id": "lPtUMkmIfE9B"
      },
      "id": "lPtUMkmIfE9B",
      "execution_count": null,
      "outputs": []
    },
    {
      "cell_type": "code",
      "source": [
        "out = model.fit(x_train, y_train, epochs=12, callbacks=[erly_stping], validation_data=(x_test,y_test) )"
      ],
      "metadata": {
        "colab": {
          "base_uri": "https://localhost:8080/"
        },
        "id": "FNvbidGkfUhe",
        "outputId": "d495e730-331a-40ff-aac5-9b25df3d3c91"
      },
      "id": "FNvbidGkfUhe",
      "execution_count": null,
      "outputs": [
        {
          "output_type": "stream",
          "name": "stdout",
          "text": [
            "Epoch 1/12\n",
            "1875/1875 [==============================] - 77s 36ms/step - loss: 0.3123 - accuracy: 0.9097 - val_loss: 0.1045 - val_accuracy: 0.9663\n",
            "Epoch 2/12\n",
            "1875/1875 [==============================] - 67s 36ms/step - loss: 0.0941 - accuracy: 0.9714 - val_loss: 0.0706 - val_accuracy: 0.9775\n",
            "Epoch 3/12\n",
            "1875/1875 [==============================] - 66s 35ms/step - loss: 0.0612 - accuracy: 0.9812 - val_loss: 0.0609 - val_accuracy: 0.9794\n",
            "Epoch 4/12\n",
            "1875/1875 [==============================] - 66s 35ms/step - loss: 0.0431 - accuracy: 0.9864 - val_loss: 0.0640 - val_accuracy: 0.9795\n",
            "Epoch 5/12\n",
            "1875/1875 [==============================] - 64s 34ms/step - loss: 0.0296 - accuracy: 0.9908 - val_loss: 0.0559 - val_accuracy: 0.9831\n",
            "Epoch 6/12\n",
            "1875/1875 [==============================] - 64s 34ms/step - loss: 0.0201 - accuracy: 0.9940 - val_loss: 0.0514 - val_accuracy: 0.9833\n",
            "Epoch 7/12\n",
            "1875/1875 [==============================] - 66s 35ms/step - loss: 0.0156 - accuracy: 0.9950 - val_loss: 0.0563 - val_accuracy: 0.9851\n",
            "Epoch 8/12\n",
            "1875/1875 [==============================] - 64s 34ms/step - loss: 0.0108 - accuracy: 0.9966 - val_loss: 0.0550 - val_accuracy: 0.9838\n",
            "Epoch 9/12\n",
            "1875/1875 [==============================] - ETA: 0s - loss: 0.0070 - accuracy: 0.9980Restoring model weights from the end of the best epoch: 7.\n",
            "1875/1875 [==============================] - 65s 34ms/step - loss: 0.0070 - accuracy: 0.9980 - val_loss: 0.0588 - val_accuracy: 0.9847\n",
            "Epoch 9: early stopping\n"
          ]
        }
      ]
    },
    {
      "cell_type": "code",
      "source": [
        "plt.plot(out.history['accuracy'], label='accuracy')\n",
        "plt.plot(out.history['val_accuracy'], label = 'val_accuracy')\n",
        "plt.xlabel('Epoch')\n",
        "plt.ylabel('Accuracy')\n",
        "plt.ylim([0.5, 1])\n",
        "plt.legend(loc='lower right')\n",
        "\n",
        "test_loss, test_acc = model.evaluate(x_test,  y_test, verbose=2)"
      ],
      "metadata": {
        "colab": {
          "base_uri": "https://localhost:8080/",
          "height": 301
        },
        "id": "S0z8TmbtjCEo",
        "outputId": "cddaffd8-3f4c-4e82-e02c-4857e3bffe48"
      },
      "id": "S0z8TmbtjCEo",
      "execution_count": null,
      "outputs": [
        {
          "output_type": "stream",
          "name": "stdout",
          "text": [
            "313/313 - 3s - loss: 0.0563 - accuracy: 0.9851 - 3s/epoch - 10ms/step\n"
          ]
        },
        {
          "output_type": "display_data",
          "data": {
            "text/plain": [
              "<Figure size 432x288 with 1 Axes>"
            ],
            "image/png": "[encoded data removed]"
          },
          "metadata": {
            "needs_background": "light"
          }
        }
      ]
    },
    {
      "cell_type": "markdown",
      "id": "003189e1",
      "metadata": {
        "id": "003189e1"
      },
      "source": [
        "## Q) 1.2\n",
        "Now lets start adding label noise to the dataset\n"
      ]
    },
    {
      "cell_type": "markdown",
      "id": "fc09bd79",
      "metadata": {
        "id": "fc09bd79"
      },
      "source": [
        "1) Randomize 20% of train labels and repeat Q1 (1,2 & 3)\n",
        "\n",
        "2) Randomize 40% of train labels and repeat Q1 (3)\n",
        "\n",
        "3) Randomize 60% of train labels and repeat Q1 (3)\n",
        "\n",
        "4) Randomize 80% of train labels and repeat Q1 (3)\n",
        "\n",
        "5) Randomize 100% of train labels and repeat Q1 (3)\n"
      ]
    },
    {
      "cell_type": "code",
      "execution_count": null,
      "id": "4204eb72",
      "metadata": {
        "id": "4204eb72",
        "colab": {
          "base_uri": "https://localhost:8080/"
        },
        "outputId": "84baf522-300d-4152-88d9-6ddf21c6d8b4"
      },
      "outputs": [
        {
          "output_type": "execute_result",
          "data": {
            "text/plain": [
              "array([[0., 0., 0., ..., 0., 0., 0.],\n",
              "       [1., 0., 0., ..., 0., 0., 0.],\n",
              "       [0., 0., 0., ..., 0., 0., 0.],\n",
              "       ...,\n",
              "       [0., 0., 0., ..., 0., 0., 0.],\n",
              "       [0., 0., 0., ..., 0., 0., 0.],\n",
              "       [0., 0., 0., ..., 0., 1., 0.]], dtype=float32)"
            ]
          },
          "metadata": {},
          "execution_count": 12
        }
      ],
      "source": [
        "y_train"
      ]
    },
    {
      "cell_type": "code",
      "source": [
        "y_train.shape\n",
        "\n",
        "n=int(0.2*(y_train.shape)[0])\n"
      ],
      "metadata": {
        "id": "5_r42ZiidSRt"
      },
      "id": "5_r42ZiidSRt",
      "execution_count": null,
      "outputs": []
    },
    {
      "cell_type": "code",
      "source": [
        "n"
      ],
      "metadata": {
        "colab": {
          "base_uri": "https://localhost:8080/"
        },
        "id": "pPqITp0yfLe8",
        "outputId": "27017af9-5406-4be3-c290-09d3366efeb7"
      },
      "id": "pPqITp0yfLe8",
      "execution_count": null,
      "outputs": [
        {
          "output_type": "execute_result",
          "data": {
            "text/plain": [
              "12000"
            ]
          },
          "metadata": {},
          "execution_count": 14
        }
      ]
    },
    {
      "cell_type": "code",
      "source": [
        "index = np.random.choice((y_train).shape[0], n, replace=False) "
      ],
      "metadata": {
        "id": "WWaK_hJXelPy"
      },
      "id": "WWaK_hJXelPy",
      "execution_count": null,
      "outputs": []
    },
    {
      "cell_type": "code",
      "source": [
        "index\n"
      ],
      "metadata": {
        "colab": {
          "base_uri": "https://localhost:8080/"
        },
        "id": "gmkFh90QfN7J",
        "outputId": "ca51d77e-5f56-421e-9bf4-6169f89769ec"
      },
      "id": "gmkFh90QfN7J",
      "execution_count": null,
      "outputs": [
        {
          "output_type": "execute_result",
          "data": {
            "text/plain": [
              "array([17765, 36692, 58871, ..., 54744, 36305, 12924])"
            ]
          },
          "metadata": {},
          "execution_count": 16
        }
      ]
    },
    {
      "cell_type": "code",
      "source": [
        "def randomize_label(percent):\n",
        "  percent=percent/100\n",
        "  n=int(percent*(y_train.shape)[0])\n",
        "  index = np.random.choice((y_train).shape[0], n, replace=False)\n",
        "\n",
        "  for i in index:\n",
        "    outclass=random.randint(0,9)\n",
        "\n",
        "    if(y_train[i][outclass]!=0):\n",
        "      for j in range(0,10):\n",
        "        if(j==outclass):\n",
        "          y_train[i][j]=1\n",
        "        else:\n",
        "          y_train[i][j]=0"
      ],
      "metadata": {
        "id": "nXej40FPhStz"
      },
      "id": "nXej40FPhStz",
      "execution_count": null,
      "outputs": []
    },
    {
      "cell_type": "code",
      "source": [
        "def load_data():\n",
        "  (x_train, y_train), (x_test, y_test) = keras.datasets.mnist.load_data()\n",
        "  # normalize the pixel values to the range 0 and 1\n",
        "  x_train = x_train.astype(\"float32\") / 255\n",
        "  x_test = x_test.astype(\"float32\") / 255\n",
        "\n",
        "  x_train = np.expand_dims(x_train, -1)\n",
        "  x_test = np.expand_dims(x_test, -1)\n",
        "  y_train = encode(y_train)\n",
        "  y_test = encode(y_test)\n",
        "\n"
      ],
      "metadata": {
        "id": "3qF3L6O2lnv5"
      },
      "id": "3qF3L6O2lnv5",
      "execution_count": null,
      "outputs": []
    },
    {
      "cell_type": "code",
      "source": [
        "load_data()\n",
        "randomize_label(20)\n",
        "model = create_model()\n",
        "model.compile(optimizer=keras.optimizers.SGD(),\n",
        "              loss=keras.losses.categorical_crossentropy,\n",
        "              metrics=['accuracy'])\n",
        "model.summary()\n",
        " \n"
      ],
      "metadata": {
        "colab": {
          "base_uri": "https://localhost:8080/"
        },
        "id": "R1X8D0t9lONe",
        "outputId": "fafb7ebc-3d44-4502-8c6a-6361265fc00d"
      },
      "id": "R1X8D0t9lONe",
      "execution_count": null,
      "outputs": [
        {
          "output_type": "stream",
          "name": "stdout",
          "text": [
            "Model: \"model\"\n",
            "_________________________________________________________________\n",
            " Layer (type)                Output Shape              Param #   \n",
            "=================================================================\n",
            " input_1 (InputLayer)        [(None, 28, 28, 1)]       0         \n",
            "                                                                 \n",
            " conv2d (Conv2D)             (None, 28, 28, 64)        640       \n",
            "                                                                 \n",
            " conv2d_1 (Conv2D)           (None, 28, 28, 64)        36928     \n",
            "                                                                 \n",
            " conv2d_2 (Conv2D)           (None, 28, 28, 64)        36928     \n",
            "                                                                 \n",
            " conv2d_3 (Conv2D)           (None, 28, 28, 64)        36928     \n",
            "                                                                 \n",
            " flatten (Flatten)           (None, 50176)             0         \n",
            "                                                                 \n",
            " dense (Dense)               (None, 900)               45159300  \n",
            "                                                                 \n",
            " dense_1 (Dense)             (None, 400)               360400    \n",
            "                                                                 \n",
            " dense_2 (Dense)             (None, 10)                4010      \n",
            "                                                                 \n",
            "=================================================================\n",
            "Total params: 45,635,134\n",
            "Trainable params: 45,635,134\n",
            "Non-trainable params: 0\n",
            "_________________________________________________________________\n"
          ]
        }
      ]
    },
    {
      "cell_type": "code",
      "source": [
        "out = model.fit(x_train, y_train, epochs=12, callbacks=[erly_stping], validation_data=(x_test,y_test) )"
      ],
      "metadata": {
        "colab": {
          "base_uri": "https://localhost:8080/"
        },
        "id": "GTe3ITBwmWDG",
        "outputId": "c7e0c8b4-7c17-4ffc-c36c-04bc2c1e4328"
      },
      "id": "GTe3ITBwmWDG",
      "execution_count": null,
      "outputs": [
        {
          "output_type": "stream",
          "name": "stdout",
          "text": [
            "Epoch 1/12\n",
            "1875/1875 [==============================] - 76s 35ms/step - loss: 0.3218 - accuracy: 0.9052 - val_loss: 0.1192 - val_accuracy: 0.9599\n",
            "Epoch 2/12\n",
            "1875/1875 [==============================] - 65s 35ms/step - loss: 0.0955 - accuracy: 0.9702 - val_loss: 0.1010 - val_accuracy: 0.9694\n",
            "Epoch 3/12\n",
            "1875/1875 [==============================] - 67s 36ms/step - loss: 0.0628 - accuracy: 0.9806 - val_loss: 0.0718 - val_accuracy: 0.9779\n",
            "Epoch 4/12\n",
            "1875/1875 [==============================] - 67s 36ms/step - loss: 0.0435 - accuracy: 0.9868 - val_loss: 0.0529 - val_accuracy: 0.9823\n",
            "Epoch 5/12\n",
            "1875/1875 [==============================] - 66s 35ms/step - loss: 0.0310 - accuracy: 0.9901 - val_loss: 0.0560 - val_accuracy: 0.9815\n",
            "Epoch 6/12\n",
            "1875/1875 [==============================] - 67s 36ms/step - loss: 0.0224 - accuracy: 0.9931 - val_loss: 0.0511 - val_accuracy: 0.9836\n",
            "Epoch 7/12\n",
            "1875/1875 [==============================] - 67s 36ms/step - loss: 0.0158 - accuracy: 0.9952 - val_loss: 0.0504 - val_accuracy: 0.9842\n",
            "Epoch 8/12\n",
            "1875/1875 [==============================] - 67s 36ms/step - loss: 0.0119 - accuracy: 0.9961 - val_loss: 0.0536 - val_accuracy: 0.9845\n",
            "Epoch 9/12\n",
            "1875/1875 [==============================] - 64s 34ms/step - loss: 0.0091 - accuracy: 0.9970 - val_loss: 0.0510 - val_accuracy: 0.9847\n",
            "Epoch 10/12\n",
            "1875/1875 [==============================] - 66s 35ms/step - loss: 0.0064 - accuracy: 0.9980 - val_loss: 0.0602 - val_accuracy: 0.9852\n",
            "Epoch 11/12\n",
            "1875/1875 [==============================] - 66s 35ms/step - loss: 0.0049 - accuracy: 0.9984 - val_loss: 0.0602 - val_accuracy: 0.9849\n",
            "Epoch 12/12\n",
            "1875/1875 [==============================] - 64s 34ms/step - loss: 0.0032 - accuracy: 0.9992 - val_loss: 0.0577 - val_accuracy: 0.9855\n"
          ]
        }
      ]
    },
    {
      "cell_type": "code",
      "source": [
        "plt.plot(out.history['accuracy'], label='accuracy')\n",
        "plt.plot(out.history['val_accuracy'], label = 'val_accuracy')\n",
        "plt.xlabel('Epoch')\n",
        "plt.ylabel('Accuracy')\n",
        "plt.ylim([0.5, 1])\n",
        "plt.legend(loc='lower right')\n",
        "\n",
        "test_loss, test_acc = model.evaluate(x_test,  y_test, verbose=2)"
      ],
      "metadata": {
        "colab": {
          "base_uri": "https://localhost:8080/",
          "height": 301
        },
        "id": "e5bbQwTtmqI0",
        "outputId": "a5fd9eb4-afea-4ec5-cfcd-c71d07e68e42"
      },
      "id": "e5bbQwTtmqI0",
      "execution_count": null,
      "outputs": [
        {
          "output_type": "stream",
          "name": "stdout",
          "text": [
            "313/313 - 3s - loss: 0.0577 - accuracy: 0.9855 - 3s/epoch - 11ms/step\n"
          ]
        },
        {
          "output_type": "display_data",
          "data": {
            "text/plain": [
              "<Figure size 432x288 with 1 Axes>"
            ],
            "image/png": "[encoded data removed]"
          },
          "metadata": {
            "needs_background": "light"
          }
        }
      ]
    },
    {
      "cell_type": "code",
      "source": [
        ""
      ],
      "metadata": {
        "id": "zpuD6S56tEpG"
      },
      "id": "zpuD6S56tEpG",
      "execution_count": null,
      "outputs": []
    }
  ],
  "metadata": {
    "kernelspec": {
      "display_name": "Python 3",
      "language": "python",
      "name": "python3"
    },
    "language_info": {
      "codemirror_mode": {
        "name": "ipython",
        "version": 3
      },
      "file_extension": ".py",
      "mimetype": "text/x-python",
      "name": "python",
      "nbconvert_exporter": "python",
      "pygments_lexer": "ipython3",
      "version": "3.8.5"
    },
    "colab": {
      "name": "rollnumber_Assignment3_Q1.ipynb",
      "provenance": [],
      "include_colab_link": true
    },
    "accelerator": "GPU"
  },
  "nbformat": 4,
  "nbformat_minor": 5
}